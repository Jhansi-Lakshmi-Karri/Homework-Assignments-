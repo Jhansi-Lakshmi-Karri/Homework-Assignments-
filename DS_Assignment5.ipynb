{
 "cells": [
  {
   "cell_type": "markdown",
   "id": "20eb6e30",
   "metadata": {},
   "source": [
    "# HeatMap"
   ]
  },
  {
   "cell_type": "code",
   "execution_count": null,
   "id": "bcc3a876",
   "metadata": {},
   "outputs": [],
   "source": [
    "import pandas as pd\n",
    "import seaborn as sns\n",
    "import matplotlib.pyplot as plt"
   ]
  },
  {
   "cell_type": "code",
   "execution_count": null,
   "id": "89780760",
   "metadata": {},
   "outputs": [],
   "source": [
    "df=pd.read_csv('C:\\\\Users\\\\linco\\\\Downloads\\\\nhanes_2015_2016.csv')\n",
    "print(df)"
   ]
  },
  {
   "cell_type": "code",
   "execution_count": null,
   "id": "5917f89d",
   "metadata": {},
   "outputs": [],
   "source": [
    "df.head()"
   ]
  },
  {
   "cell_type": "code",
   "execution_count": null,
   "id": "cec9f366",
   "metadata": {},
   "outputs": [],
   "source": [
    "df.columns"
   ]
  },
  {
   "cell_type": "code",
   "execution_count": null,
   "id": "28f12518",
   "metadata": {},
   "outputs": [],
   "source": [
    "#Not all dataset features or variables are important.Correlation is used to select important features from our dataset and then we can make better predictions with that important features"
   ]
  },
  {
   "cell_type": "code",
   "execution_count": null,
   "id": "7167aefb",
   "metadata": {},
   "outputs": [],
   "source": [
    "cor=df.corr()\n",
    "cor"
   ]
  },
  {
   "cell_type": "code",
   "execution_count": null,
   "id": "3effcae7",
   "metadata": {},
   "outputs": [],
   "source": [
    "cor_matrix[\"SMQ020\"]"
   ]
  },
  {
   "cell_type": "code",
   "execution_count": null,
   "id": "a28823db",
   "metadata": {},
   "outputs": [],
   "source": [
    "plt.figure(figsize=(20,10))\n",
    "sns.heatmap(data=cor)"
   ]
  },
  {
   "cell_type": "code",
   "execution_count": null,
   "id": "a26f0f50",
   "metadata": {},
   "outputs": [],
   "source": [
    "plt.figure(figsize=(20,10))\n",
    "sns.heatmap(data=cor,annot=True)"
   ]
  },
  {
   "cell_type": "code",
   "execution_count": null,
   "id": "203293a6",
   "metadata": {},
   "outputs": [],
   "source": [
    "plt.figure(figsize=(20,10))\n",
    "sns.heatmap(data=cor,annot=True,cmap='mako')#default is rocket"
   ]
  },
  {
   "cell_type": "code",
   "execution_count": null,
   "id": "ce2423ed",
   "metadata": {},
   "outputs": [],
   "source": [
    "plt.figure(figsize=(20,10))\n",
    "sns.heatmap(data=cor,annot=True,cmap='mako',vmin=0.1,vmax=0.9)"
   ]
  },
  {
   "cell_type": "markdown",
   "id": "41fa765c",
   "metadata": {},
   "source": [
    "# Scatter Plot"
   ]
  },
  {
   "cell_type": "code",
   "execution_count": null,
   "id": "f3648595",
   "metadata": {},
   "outputs": [],
   "source": [
    "x=[1,2,3,4,5,6]\n",
    "y=[10,50,100,80,60,90]\n",
    "plt.scatter(x,y)"
   ]
  },
  {
   "cell_type": "code",
   "execution_count": null,
   "id": "a21052c2",
   "metadata": {},
   "outputs": [],
   "source": [
    "x=[1,2,3,4,5,6]\n",
    "y=[10,50,100,80,60,90]\n",
    "color=[\"red\",\"green\",\"blue\",\"black\",\"brown\",\"orange\"]\n",
    "plt.scatter(x,y,c=color)"
   ]
  },
  {
   "cell_type": "code",
   "execution_count": null,
   "id": "bdfe5c63",
   "metadata": {},
   "outputs": [],
   "source": [
    "x=[1,2,3,4,5,6]\n",
    "y=[10,50,100,80,60,90]\n",
    "plt.scatter(x,y,color=\"black\")"
   ]
  },
  {
   "cell_type": "code",
   "execution_count": null,
   "id": "cc48c886",
   "metadata": {},
   "outputs": [],
   "source": [
    "x=[1,2,3,4,5,6]\n",
    "y=[10,50,100,80,60,90]\n",
    "size=[10,100,20,90,50,70]\n",
    "plt.scatter(x,y,color=\"black\",s=size)"
   ]
  },
  {
   "cell_type": "code",
   "execution_count": null,
   "id": "feb48c80",
   "metadata": {},
   "outputs": [],
   "source": [
    "x=[1,2,3,4,5,6]\n",
    "y=[10,50,100,80,60,90]\n",
    "size=[10,100,20,90,50,70]\n",
    "plt.scatter(x,y,color=\"black\",s=size,alpha=0.5)"
   ]
  },
  {
   "cell_type": "code",
   "execution_count": null,
   "id": "b869d6fc",
   "metadata": {},
   "outputs": [],
   "source": [
    "x=[1,2,3,4,5,6]\n",
    "y=[10,50,100,80,60,90]\n",
    "color=[\"red\",\"green\",\"blue\",\"black\",\"brown\",\"orange\"]\n",
    "size=[10,100,20,90,50,70]\n",
    "plt.scatter(x,y,c=color,s=size,alpha=1,cmap=\"viridis\")\n",
    "plt.colorbar()\n",
    "plt.show()"
   ]
  },
  {
   "cell_type": "code",
   "execution_count": null,
   "id": "23ace67c",
   "metadata": {},
   "outputs": [],
   "source": [
    "x=[1,2,3,4,5,6]\n",
    "y=[10,50,100,80,60,90]\n",
    "#color=[\"red\",\"green\",\"blue\",\"black\",\"brown\",\"orange\"]\n",
    "size=[10,100,20,90,50,70]\n",
    "plt.scatter(x,y,color=\"green\",s=size,alpha=1,label=\"2019\")\n",
    "\n",
    "x=[1,2,3,4,5,6]\n",
    "y=[10,60,90,70,80,40]\n",
    "#color=[\"red\",\"green\",\"blue\",\"black\",\"brown\",\"orange\"]\n",
    "size=[10,100,20,90,50,70]\n",
    "plt.scatter(x,y,color=\"blue\",s=size,alpha=1,label=\"2020\")\n",
    "\n",
    "\n",
    "plt.colorbar()\n",
    "plt.legend()\n",
    "plt.show()"
   ]
  },
  {
   "cell_type": "code",
   "execution_count": null,
   "id": "17356abc",
   "metadata": {},
   "outputs": [],
   "source": []
  }
 ],
 "metadata": {
  "kernelspec": {
   "display_name": "Python 3 (ipykernel)",
   "language": "python",
   "name": "python3"
  },
  "language_info": {
   "codemirror_mode": {
    "name": "ipython",
    "version": 3
   },
   "file_extension": ".py",
   "mimetype": "text/x-python",
   "name": "python",
   "nbconvert_exporter": "python",
   "pygments_lexer": "ipython3",
   "version": "3.10.7"
  }
 },
 "nbformat": 4,
 "nbformat_minor": 5
}
