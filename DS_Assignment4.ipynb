{
 "cells": [
  {
   "cell_type": "markdown",
   "id": "0b41693f",
   "metadata": {},
   "source": [
    "# Feature Scaling"
   ]
  },
  {
   "cell_type": "code",
   "execution_count": 1,
   "id": "6ad4a6ec",
   "metadata": {},
   "outputs": [],
   "source": [
    "import matplotlib.pyplot as plt\n",
    "import numpy as np\n",
    "import pandas as pd\n",
    "import seaborn as sns\n",
    "from sklearn.preprocessing import StandardScaler, MinMaxScaler"
   ]
  },
  {
   "cell_type": "code",
   "execution_count": 8,
   "id": "649f764e",
   "metadata": {},
   "outputs": [
    {
     "name": "stdout",
     "output_type": "stream",
     "text": [
      "     Pregnancies  Glucose  BloodPressure  SkinThickness  Insulin   BMI  \\\n",
      "0              6      148             72             35        0  33.6   \n",
      "1              1       85             66             29        0  26.6   \n",
      "2              8      183             64              0        0  23.3   \n",
      "3              1       89             66             23       94  28.1   \n",
      "4              0      137             40             35      168  43.1   \n",
      "..           ...      ...            ...            ...      ...   ...   \n",
      "763           10      101             76             48      180  32.9   \n",
      "764            2      122             70             27        0  36.8   \n",
      "765            5      121             72             23      112  26.2   \n",
      "766            1      126             60              0        0  30.1   \n",
      "767            1       93             70             31        0  30.4   \n",
      "\n",
      "     DiabetesPedigreeFunction  Age  Outcome  \n",
      "0                       0.627   50        1  \n",
      "1                       0.351   31        0  \n",
      "2                       0.672   32        1  \n",
      "3                       0.167   21        0  \n",
      "4                       2.288   33        1  \n",
      "..                        ...  ...      ...  \n",
      "763                     0.171   63        0  \n",
      "764                     0.340   27        0  \n",
      "765                     0.245   30        0  \n",
      "766                     0.349   47        1  \n",
      "767                     0.315   23        0  \n",
      "\n",
      "[768 rows x 9 columns]\n"
     ]
    }
   ],
   "source": [
    "d=pd.read_csv('diabetes.csv')\n",
    "df=pd.DataFrame(d)\n",
    "print(d)"
   ]
  },
  {
   "cell_type": "code",
   "execution_count": 11,
   "id": "774f25a3",
   "metadata": {},
   "outputs": [
    {
     "data": {
      "text/html": [
       "<div>\n",
       "<style scoped>\n",
       "    .dataframe tbody tr th:only-of-type {\n",
       "        vertical-align: middle;\n",
       "    }\n",
       "\n",
       "    .dataframe tbody tr th {\n",
       "        vertical-align: top;\n",
       "    }\n",
       "\n",
       "    .dataframe thead th {\n",
       "        text-align: right;\n",
       "    }\n",
       "</style>\n",
       "<table border=\"1\" class=\"dataframe\">\n",
       "  <thead>\n",
       "    <tr style=\"text-align: right;\">\n",
       "      <th></th>\n",
       "      <th>Pregnancies</th>\n",
       "      <th>Glucose</th>\n",
       "      <th>BloodPressure</th>\n",
       "      <th>SkinThickness</th>\n",
       "      <th>Insulin</th>\n",
       "      <th>BMI</th>\n",
       "      <th>DiabetesPedigreeFunction</th>\n",
       "      <th>Age</th>\n",
       "      <th>Outcome</th>\n",
       "    </tr>\n",
       "  </thead>\n",
       "  <tbody>\n",
       "    <tr>\n",
       "      <th>0</th>\n",
       "      <td>6</td>\n",
       "      <td>148</td>\n",
       "      <td>72</td>\n",
       "      <td>35</td>\n",
       "      <td>0</td>\n",
       "      <td>33.6</td>\n",
       "      <td>0.627</td>\n",
       "      <td>50</td>\n",
       "      <td>1</td>\n",
       "    </tr>\n",
       "    <tr>\n",
       "      <th>1</th>\n",
       "      <td>1</td>\n",
       "      <td>85</td>\n",
       "      <td>66</td>\n",
       "      <td>29</td>\n",
       "      <td>0</td>\n",
       "      <td>26.6</td>\n",
       "      <td>0.351</td>\n",
       "      <td>31</td>\n",
       "      <td>0</td>\n",
       "    </tr>\n",
       "    <tr>\n",
       "      <th>2</th>\n",
       "      <td>8</td>\n",
       "      <td>183</td>\n",
       "      <td>64</td>\n",
       "      <td>0</td>\n",
       "      <td>0</td>\n",
       "      <td>23.3</td>\n",
       "      <td>0.672</td>\n",
       "      <td>32</td>\n",
       "      <td>1</td>\n",
       "    </tr>\n",
       "    <tr>\n",
       "      <th>3</th>\n",
       "      <td>1</td>\n",
       "      <td>89</td>\n",
       "      <td>66</td>\n",
       "      <td>23</td>\n",
       "      <td>94</td>\n",
       "      <td>28.1</td>\n",
       "      <td>0.167</td>\n",
       "      <td>21</td>\n",
       "      <td>0</td>\n",
       "    </tr>\n",
       "    <tr>\n",
       "      <th>4</th>\n",
       "      <td>0</td>\n",
       "      <td>137</td>\n",
       "      <td>40</td>\n",
       "      <td>35</td>\n",
       "      <td>168</td>\n",
       "      <td>43.1</td>\n",
       "      <td>2.288</td>\n",
       "      <td>33</td>\n",
       "      <td>1</td>\n",
       "    </tr>\n",
       "    <tr>\n",
       "      <th>5</th>\n",
       "      <td>5</td>\n",
       "      <td>116</td>\n",
       "      <td>74</td>\n",
       "      <td>0</td>\n",
       "      <td>0</td>\n",
       "      <td>25.6</td>\n",
       "      <td>0.201</td>\n",
       "      <td>30</td>\n",
       "      <td>0</td>\n",
       "    </tr>\n",
       "    <tr>\n",
       "      <th>6</th>\n",
       "      <td>3</td>\n",
       "      <td>78</td>\n",
       "      <td>50</td>\n",
       "      <td>32</td>\n",
       "      <td>88</td>\n",
       "      <td>31.0</td>\n",
       "      <td>0.248</td>\n",
       "      <td>26</td>\n",
       "      <td>1</td>\n",
       "    </tr>\n",
       "    <tr>\n",
       "      <th>7</th>\n",
       "      <td>10</td>\n",
       "      <td>115</td>\n",
       "      <td>0</td>\n",
       "      <td>0</td>\n",
       "      <td>0</td>\n",
       "      <td>35.3</td>\n",
       "      <td>0.134</td>\n",
       "      <td>29</td>\n",
       "      <td>0</td>\n",
       "    </tr>\n",
       "    <tr>\n",
       "      <th>8</th>\n",
       "      <td>2</td>\n",
       "      <td>197</td>\n",
       "      <td>70</td>\n",
       "      <td>45</td>\n",
       "      <td>543</td>\n",
       "      <td>30.5</td>\n",
       "      <td>0.158</td>\n",
       "      <td>53</td>\n",
       "      <td>1</td>\n",
       "    </tr>\n",
       "    <tr>\n",
       "      <th>9</th>\n",
       "      <td>8</td>\n",
       "      <td>125</td>\n",
       "      <td>96</td>\n",
       "      <td>0</td>\n",
       "      <td>0</td>\n",
       "      <td>0.0</td>\n",
       "      <td>0.232</td>\n",
       "      <td>54</td>\n",
       "      <td>1</td>\n",
       "    </tr>\n",
       "  </tbody>\n",
       "</table>\n",
       "</div>"
      ],
      "text/plain": [
       "   Pregnancies  Glucose  BloodPressure  SkinThickness  Insulin   BMI  \\\n",
       "0            6      148             72             35        0  33.6   \n",
       "1            1       85             66             29        0  26.6   \n",
       "2            8      183             64              0        0  23.3   \n",
       "3            1       89             66             23       94  28.1   \n",
       "4            0      137             40             35      168  43.1   \n",
       "5            5      116             74              0        0  25.6   \n",
       "6            3       78             50             32       88  31.0   \n",
       "7           10      115              0              0        0  35.3   \n",
       "8            2      197             70             45      543  30.5   \n",
       "9            8      125             96              0        0   0.0   \n",
       "\n",
       "   DiabetesPedigreeFunction  Age  Outcome  \n",
       "0                     0.627   50        1  \n",
       "1                     0.351   31        0  \n",
       "2                     0.672   32        1  \n",
       "3                     0.167   21        0  \n",
       "4                     2.288   33        1  \n",
       "5                     0.201   30        0  \n",
       "6                     0.248   26        1  \n",
       "7                     0.134   29        0  \n",
       "8                     0.158   53        1  \n",
       "9                     0.232   54        1  "
      ]
     },
     "execution_count": 11,
     "metadata": {},
     "output_type": "execute_result"
    }
   ],
   "source": [
    "df.head(10)"
   ]
  },
  {
   "cell_type": "code",
   "execution_count": 12,
   "id": "ee2f0274",
   "metadata": {},
   "outputs": [
    {
     "name": "stdout",
     "output_type": "stream",
     "text": [
      "       Pregnancies     Glucose  BloodPressure  SkinThickness     Insulin  \\\n",
      "count   768.000000  768.000000     768.000000     768.000000  768.000000   \n",
      "mean      3.845052  120.894531      69.105469      20.536458   79.799479   \n",
      "std       3.369578   31.972618      19.355807      15.952218  115.244002   \n",
      "min       0.000000    0.000000       0.000000       0.000000    0.000000   \n",
      "25%       1.000000   99.000000      62.000000       0.000000    0.000000   \n",
      "50%       3.000000  117.000000      72.000000      23.000000   30.500000   \n",
      "75%       6.000000  140.250000      80.000000      32.000000  127.250000   \n",
      "max      17.000000  199.000000     122.000000      99.000000  846.000000   \n",
      "\n",
      "              BMI  DiabetesPedigreeFunction         Age     Outcome  \n",
      "count  768.000000                768.000000  768.000000  768.000000  \n",
      "mean    31.992578                  0.471876   33.240885    0.348958  \n",
      "std      7.884160                  0.331329   11.760232    0.476951  \n",
      "min      0.000000                  0.078000   21.000000    0.000000  \n",
      "25%     27.300000                  0.243750   24.000000    0.000000  \n",
      "50%     32.000000                  0.372500   29.000000    0.000000  \n",
      "75%     36.600000                  0.626250   41.000000    1.000000  \n",
      "max     67.100000                  2.420000   81.000000    1.000000  \n"
     ]
    }
   ],
   "source": [
    "print(df.describe())"
   ]
  },
  {
   "cell_type": "code",
   "execution_count": 15,
   "id": "1e3e9158",
   "metadata": {},
   "outputs": [
    {
     "data": {
      "text/plain": [
       "{'whiskers': [<matplotlib.lines.Line2D at 0x1113657a3a0>,\n",
       "  <matplotlib.lines.Line2D at 0x1113657a670>,\n",
       "  <matplotlib.lines.Line2D at 0x11136588790>,\n",
       "  <matplotlib.lines.Line2D at 0x11136588a60>,\n",
       "  <matplotlib.lines.Line2D at 0x11136596b80>,\n",
       "  <matplotlib.lines.Line2D at 0x11136596e50>,\n",
       "  <matplotlib.lines.Line2D at 0x111365a2f70>,\n",
       "  <matplotlib.lines.Line2D at 0x111365b0280>,\n",
       "  <matplotlib.lines.Line2D at 0x111365bd3a0>,\n",
       "  <matplotlib.lines.Line2D at 0x111365bd670>,\n",
       "  <matplotlib.lines.Line2D at 0x111365ca790>,\n",
       "  <matplotlib.lines.Line2D at 0x111365caa60>],\n",
       " 'caps': [<matplotlib.lines.Line2D at 0x1113657a940>,\n",
       "  <matplotlib.lines.Line2D at 0x1113657ac10>,\n",
       "  <matplotlib.lines.Line2D at 0x11136588d30>,\n",
       "  <matplotlib.lines.Line2D at 0x11136596040>,\n",
       "  <matplotlib.lines.Line2D at 0x111365a2160>,\n",
       "  <matplotlib.lines.Line2D at 0x111365a2430>,\n",
       "  <matplotlib.lines.Line2D at 0x111365b0550>,\n",
       "  <matplotlib.lines.Line2D at 0x111365b0820>,\n",
       "  <matplotlib.lines.Line2D at 0x111365bd940>,\n",
       "  <matplotlib.lines.Line2D at 0x111365bdc10>,\n",
       "  <matplotlib.lines.Line2D at 0x111365cad30>,\n",
       "  <matplotlib.lines.Line2D at 0x111365d8040>],\n",
       " 'boxes': [<matplotlib.lines.Line2D at 0x1113657a0d0>,\n",
       "  <matplotlib.lines.Line2D at 0x111365884c0>,\n",
       "  <matplotlib.lines.Line2D at 0x111365968b0>,\n",
       "  <matplotlib.lines.Line2D at 0x111365a2ca0>,\n",
       "  <matplotlib.lines.Line2D at 0x111365bd0d0>,\n",
       "  <matplotlib.lines.Line2D at 0x111365ca4c0>],\n",
       " 'medians': [<matplotlib.lines.Line2D at 0x1113657aee0>,\n",
       "  <matplotlib.lines.Line2D at 0x11136596310>,\n",
       "  <matplotlib.lines.Line2D at 0x111365a2700>,\n",
       "  <matplotlib.lines.Line2D at 0x111365b0af0>,\n",
       "  <matplotlib.lines.Line2D at 0x111365bdee0>,\n",
       "  <matplotlib.lines.Line2D at 0x111365d8310>],\n",
       " 'fliers': [<matplotlib.lines.Line2D at 0x111365881f0>,\n",
       "  <matplotlib.lines.Line2D at 0x111365965e0>,\n",
       "  <matplotlib.lines.Line2D at 0x111365a29d0>,\n",
       "  <matplotlib.lines.Line2D at 0x111365b0dc0>,\n",
       "  <matplotlib.lines.Line2D at 0x111365ca1f0>,\n",
       "  <matplotlib.lines.Line2D at 0x111365d85e0>],\n",
       " 'means': []}"
      ]
     },
     "execution_count": 15,
     "metadata": {},
     "output_type": "execute_result"
    },
    {
     "data": {
      "image/png": "[encoded data removed]",
      "text/plain": [
       "<Figure size 640x480 with 1 Axes>"
      ]
     },
     "metadata": {},
     "output_type": "display_data"
    }
   ],
   "source": [
    "plt.boxplot(a[['BloodPressure','BMI','Glucose','Pregnancies','Insulin','DiabetesPedigreeFunction']],labels=['BloodPressure','BMI','Glucose','Pregnancies','Insulin','DiabetesPedigreeFunction'])"
   ]
  },
  {
   "cell_type": "code",
   "execution_count": 16,
   "id": "ecfbe0ab",
   "metadata": {},
   "outputs": [
    {
     "data": {
      "image/png": "[encoded data removed]",
      "text/plain": [
       "<Figure size 640x480 with 1 Axes>"
      ]
     },
     "metadata": {},
     "output_type": "display_data"
    }
   ],
   "source": [
    "scaler = MinMaxScaler()\n",
    "scaled = scaler.fit_transform(a[['BloodPressure','BMI','Glucose','Pregnancies','Insulin','DiabetesPedigreeFunction']])\n",
    "plt.boxplot(scaled,labels=['BloodPressure','BMI','Glucose','Pregnancies','Insulin','DiabetesPedigreeFunction'])\n",
    "plt.show()"
   ]
  },
  {
   "cell_type": "code",
   "execution_count": 7,
   "id": "3f4c3d8e",
   "metadata": {},
   "outputs": [
    {
     "data": {
      "image/png": "[encoded data removed]",
      "text/plain": [
       "<Figure size 640x480 with 1 Axes>"
      ]
     },
     "metadata": {},
     "output_type": "display_data"
    }
   ],
   "source": [
    "scaler = StandardScaler()\n",
    "scaled = scaler.fit_transform(a[['BloodPressure','BMI','Glucose','Pregnancies','Insulin','DiabetesPedigreeFunction']])\n",
    "plt.boxplot(scaled,labels=['BloodPressure','BMI','Glucose','Pregnancies','Insulin','DiabetesPedigreeFunction'])\n",
    "plt.show()"
   ]
  },
  {
   "cell_type": "markdown",
   "id": "7bc1c194",
   "metadata": {},
   "source": [
    "# OneHotencoding(used to convert text data into numeric data)"
   ]
  },
  {
   "cell_type": "code",
   "execution_count": 18,
   "id": "3da7854e",
   "metadata": {},
   "outputs": [
    {
     "name": "stdout",
     "output_type": "stream",
     "text": [
      "     SkinThickness  Age  Outcome  BloodPressure_0  BloodPressure_24  \\\n",
      "0               35   50        1                0                 0   \n",
      "1               29   31        0                0                 0   \n",
      "2                0   32        1                0                 0   \n",
      "3               23   21        0                0                 0   \n",
      "4               35   33        1                0                 0   \n",
      "..             ...  ...      ...              ...               ...   \n",
      "763             48   63        0                0                 0   \n",
      "764             27   27        0                0                 0   \n",
      "765             23   30        0                0                 0   \n",
      "766              0   47        1                0                 0   \n",
      "767             31   23        0                0                 0   \n",
      "\n",
      "     BloodPressure_30  BloodPressure_38  BloodPressure_40  BloodPressure_44  \\\n",
      "0                   0                 0                 0                 0   \n",
      "1                   0                 0                 0                 0   \n",
      "2                   0                 0                 0                 0   \n",
      "3                   0                 0                 0                 0   \n",
      "4                   0                 0                 1                 0   \n",
      "..                ...               ...               ...               ...   \n",
      "763                 0                 0                 0                 0   \n",
      "764                 0                 0                 0                 0   \n",
      "765                 0                 0                 0                 0   \n",
      "766                 0                 0                 0                 0   \n",
      "767                 0                 0                 0                 0   \n",
      "\n",
      "     BloodPressure_46  ...  DiabetesPedigreeFunction_1.6  \\\n",
      "0                   0  ...                             0   \n",
      "1                   0  ...                             0   \n",
      "2                   0  ...                             0   \n",
      "3                   0  ...                             0   \n",
      "4                   0  ...                             0   \n",
      "..                ...  ...                           ...   \n",
      "763                 0  ...                             0   \n",
      "764                 0  ...                             0   \n",
      "765                 0  ...                             0   \n",
      "766                 0  ...                             0   \n",
      "767                 0  ...                             0   \n",
      "\n",
      "     DiabetesPedigreeFunction_1.698  DiabetesPedigreeFunction_1.699  \\\n",
      "0                                 0                               0   \n",
      "1                                 0                               0   \n",
      "2                                 0                               0   \n",
      "3                                 0                               0   \n",
      "4                                 0                               0   \n",
      "..                              ...                             ...   \n",
      "763                               0                               0   \n",
      "764                               0                               0   \n",
      "765                               0                               0   \n",
      "766                               0                               0   \n",
      "767                               0                               0   \n",
      "\n",
      "     DiabetesPedigreeFunction_1.731  DiabetesPedigreeFunction_1.781  \\\n",
      "0                                 0                               0   \n",
      "1                                 0                               0   \n",
      "2                                 0                               0   \n",
      "3                                 0                               0   \n",
      "4                                 0                               0   \n",
      "..                              ...                             ...   \n",
      "763                               0                               0   \n",
      "764                               0                               0   \n",
      "765                               0                               0   \n",
      "766                               0                               0   \n",
      "767                               0                               0   \n",
      "\n",
      "     DiabetesPedigreeFunction_1.893  DiabetesPedigreeFunction_2.137  \\\n",
      "0                                 0                               0   \n",
      "1                                 0                               0   \n",
      "2                                 0                               0   \n",
      "3                                 0                               0   \n",
      "4                                 0                               0   \n",
      "..                              ...                             ...   \n",
      "763                               0                               0   \n",
      "764                               0                               0   \n",
      "765                               0                               0   \n",
      "766                               0                               0   \n",
      "767                               0                               0   \n",
      "\n",
      "     DiabetesPedigreeFunction_2.288  DiabetesPedigreeFunction_2.329  \\\n",
      "0                                 0                               0   \n",
      "1                                 0                               0   \n",
      "2                                 0                               0   \n",
      "3                                 0                               0   \n",
      "4                                 1                               0   \n",
      "..                              ...                             ...   \n",
      "763                               0                               0   \n",
      "764                               0                               0   \n",
      "765                               0                               0   \n",
      "766                               0                               0   \n",
      "767                               0                               0   \n",
      "\n",
      "     DiabetesPedigreeFunction_2.42  \n",
      "0                                0  \n",
      "1                                0  \n",
      "2                                0  \n",
      "3                                0  \n",
      "4                                0  \n",
      "..                             ...  \n",
      "763                              0  \n",
      "764                              0  \n",
      "765                              0  \n",
      "766                              0  \n",
      "767                              0  \n",
      "\n",
      "[768 rows x 1154 columns]\n"
     ]
    }
   ],
   "source": [
    "one_hot_encoded_data=pd.get_dummies(df,columns=['BloodPressure','BMI','Glucose','Pregnancies','Insulin','DiabetesPedigreeFunction'])\n",
    "print(one_hot_encoded_data)"
   ]
  },
  {
   "cell_type": "markdown",
   "id": "8f3bce6d",
   "metadata": {},
   "source": [
    "# Feature Engineering"
   ]
  },
  {
   "cell_type": "code",
   "execution_count": 23,
   "id": "ab231c65",
   "metadata": {},
   "outputs": [
    {
     "name": "stdout",
     "output_type": "stream",
     "text": [
      "    Name  Salary  exp(yrs)\n",
      "0   John   25000         2\n",
      "1   Jane   23456         3\n",
      "2   Mike   28000         4\n",
      "3  Emily   32000         5\n"
     ]
    }
   ],
   "source": [
    "#process of extracting useful featues from raw data using math,statistics and domain knowledge\n",
    "d = {'Name': ['John', 'Jane', 'Mike', 'Emily'],\n",
    "        'Salary': [25000, 23456, 28000, 32000],\n",
    "        'exp(yrs)': [2,3,4,5]}\n",
    "df=pd.DataFrame(d)\n",
    "print(df)"
   ]
  },
  {
   "cell_type": "code",
   "execution_count": 24,
   "id": "771c525c",
   "metadata": {},
   "outputs": [
    {
     "data": {
      "text/plain": [
       "0    2\n",
       "1    3\n",
       "2    4\n",
       "3    5\n",
       "Name: exp(yrs), dtype: int64"
      ]
     },
     "execution_count": 24,
     "metadata": {},
     "output_type": "execute_result"
    }
   ],
   "source": [
    "#feature selection\n",
    "df['exp(yrs)']"
   ]
  },
  {
   "cell_type": "code",
   "execution_count": 26,
   "id": "c77a0794",
   "metadata": {},
   "outputs": [
    {
     "name": "stdout",
     "output_type": "stream",
     "text": [
      "    Name  Salary  exp(yrs)  Age  Place\n",
      "0   John   25000         2   23  delhi\n",
      "1   Jane   23456         3   34  assam\n",
      "2   Mike   28000         4   34    hyd\n",
      "3  Emily   32000         5   12    goa\n"
     ]
    }
   ],
   "source": [
    "#feature construction\n",
    "df['Age']=[23,34,34,12]\n",
    "df['Place']=['delhi','assam','hyd','goa']\n",
    "print(df)"
   ]
  },
  {
   "cell_type": "code",
   "execution_count": 27,
   "id": "988fcf5e",
   "metadata": {},
   "outputs": [
    {
     "data": {
      "text/html": [
       "<div>\n",
       "<style scoped>\n",
       "    .dataframe tbody tr th:only-of-type {\n",
       "        vertical-align: middle;\n",
       "    }\n",
       "\n",
       "    .dataframe tbody tr th {\n",
       "        vertical-align: top;\n",
       "    }\n",
       "\n",
       "    .dataframe thead th {\n",
       "        text-align: right;\n",
       "    }\n",
       "</style>\n",
       "<table border=\"1\" class=\"dataframe\">\n",
       "  <thead>\n",
       "    <tr style=\"text-align: right;\">\n",
       "      <th></th>\n",
       "      <th>Name</th>\n",
       "      <th>Salary</th>\n",
       "      <th>exp(yrs)</th>\n",
       "      <th>Age</th>\n",
       "      <th>Place</th>\n",
       "    </tr>\n",
       "  </thead>\n",
       "  <tbody>\n",
       "    <tr>\n",
       "      <th>0</th>\n",
       "      <td>John</td>\n",
       "      <td>25000</td>\n",
       "      <td>2</td>\n",
       "      <td>23</td>\n",
       "      <td>delhi</td>\n",
       "    </tr>\n",
       "    <tr>\n",
       "      <th>1</th>\n",
       "      <td>Jane</td>\n",
       "      <td>23456</td>\n",
       "      <td>3</td>\n",
       "      <td>34</td>\n",
       "      <td>assam</td>\n",
       "    </tr>\n",
       "    <tr>\n",
       "      <th>2</th>\n",
       "      <td>Mike</td>\n",
       "      <td>28000</td>\n",
       "      <td>4</td>\n",
       "      <td>34</td>\n",
       "      <td>hyd</td>\n",
       "    </tr>\n",
       "    <tr>\n",
       "      <th>3</th>\n",
       "      <td>Emily</td>\n",
       "      <td>32000</td>\n",
       "      <td>5</td>\n",
       "      <td>12</td>\n",
       "      <td>goa</td>\n",
       "    </tr>\n",
       "  </tbody>\n",
       "</table>\n",
       "</div>"
      ],
      "text/plain": [
       "    Name  Salary  exp(yrs)  Age  Place\n",
       "0   John   25000         2   23  delhi\n",
       "1   Jane   23456         3   34  assam\n",
       "2   Mike   28000         4   34    hyd\n",
       "3  Emily   32000         5   12    goa"
      ]
     },
     "execution_count": 27,
     "metadata": {},
     "output_type": "execute_result"
    }
   ],
   "source": [
    "df"
   ]
  },
  {
   "cell_type": "code",
   "execution_count": 28,
   "id": "2a1f34b5",
   "metadata": {},
   "outputs": [
    {
     "data": {
      "text/plain": [
       "28000"
      ]
     },
     "execution_count": 28,
     "metadata": {},
     "output_type": "execute_result"
    }
   ],
   "source": [
    "# feature selection\n",
    "df['Salary'].loc[2]"
   ]
  },
  {
   "cell_type": "code",
   "execution_count": null,
   "id": "5a89f07b",
   "metadata": {},
   "outputs": [],
   "source": []
  }
 ],
 "metadata": {
  "kernelspec": {
   "display_name": "Python 3 (ipykernel)",
   "language": "python",
   "name": "python3"
  },
  "language_info": {
   "codemirror_mode": {
    "name": "ipython",
    "version": 3
   },
   "file_extension": ".py",
   "mimetype": "text/x-python",
   "name": "python",
   "nbconvert_exporter": "python",
   "pygments_lexer": "ipython3",
   "version": "3.10.7"
  }
 },
 "nbformat": 4,
 "nbformat_minor": 5
}
